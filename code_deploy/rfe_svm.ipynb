{
 "cells": [
  {
   "cell_type": "code",
   "execution_count": 1,
   "metadata": {
    "collapsed": true
   },
   "outputs": [],
   "source": [
    "from sklearn.svm import SVR\n",
    "import pandas as pd\n",
    "import numpy as np"
   ]
  },
  {
   "cell_type": "code",
   "execution_count": 2,
   "metadata": {
    "collapsed": true
   },
   "outputs": [],
   "source": [
    "# Load the dataset\n",
    "df = pd.read_csv(\"./data/nci60.csv\")\n",
    "X = df.iloc[:,2:]\n",
    "y = df.iloc[:,1]"
   ]
  },
  {
   "cell_type": "code",
   "execution_count": 3,
   "metadata": {
    "collapsed": true
   },
   "outputs": [],
   "source": [
    "# Define the rfe-svm function\n",
    "def rfe_svm(X, y, num_feature_to_selected):\n",
    "    import time\n",
    "    clf = SVR()\n",
    "    model = clf.set_params(kernel='linear')\n",
    "    X_new = X\n",
    "    record = {}\n",
    "    keep_ = X.shape[1]-num_feature_to_selected\n",
    "    start_time = time.time()\n",
    "    for i in range(keep_):\n",
    "        # get the column name\n",
    "        names = list(X_new)\n",
    "        # fit the svm and get the weights of features\n",
    "        fit = model.fit(X_new, y)\n",
    "        # remove the feature with the smallest weight\n",
    "        X_new = X_new.drop(X_new.columns[[np.argmin(fit.coef_)]], 1)\n",
    "        # record the index and value of the deleted feature\n",
    "        record.update({str(names[np.argmin(fit.coef_)]):fit.coef_[0,np.argmin(fit.coef_)]})\n",
    "    elapsed_time = time.time() - start_time\n",
    "    return X_new, record, elapsed_time"
   ]
  },
  {
   "cell_type": "code",
   "execution_count": 6,
   "metadata": {
    "collapsed": false
   },
   "outputs": [
    {
     "data": {
      "text/plain": [
       "364.68830728530884"
      ]
     },
     "execution_count": 6,
     "metadata": {},
     "output_type": "execute_result"
    }
   ],
   "source": [
    "# Do the feature selecltion and get the selected features\n",
    "X_new, record, elapsed_time = rfe_svm(X, y, 50)\n",
    "#for key,value in record.items():\n",
    "#    print(key,':',value)\n",
    "len(record)\n",
    "elapsed_time"
   ]
  },
  {
   "cell_type": "code",
   "execution_count": 7,
   "metadata": {
    "collapsed": true
   },
   "outputs": [],
   "source": [
    "# combine the label and write to the local destination\n",
    "X_new.insert(0, \"IC50\", y)\n",
    "X_new.to_csv(\"./selected_features/rfe_svm_out_50.csv\")"
   ]
  }
 ],
 "metadata": {
  "kernelspec": {
   "display_name": "Python [default]",
   "language": "python",
   "name": "python3"
  },
  "language_info": {
   "codemirror_mode": {
    "name": "ipython",
    "version": 3
   },
   "file_extension": ".py",
   "mimetype": "text/x-python",
   "name": "python",
   "nbconvert_exporter": "python",
   "pygments_lexer": "ipython3",
   "version": "3.5.2"
  }
 },
 "nbformat": 4,
 "nbformat_minor": 1
}
