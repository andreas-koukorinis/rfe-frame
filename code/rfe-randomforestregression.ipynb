{
 "cells": [
  {
   "cell_type": "code",
   "execution_count": 1,
   "metadata": {
    "collapsed": true
   },
   "outputs": [],
   "source": [
    "from sklearn.ensemble import RandomForestRegressor\n",
    "from sklearn.model_selection import ShuffleSplit\n",
    "from sklearn.model_selection import cross_val_score\n",
    "import pandas as pd\n",
    "import numpy as np"
   ]
  },
  {
   "cell_type": "code",
   "execution_count": 2,
   "metadata": {
    "collapsed": true
   },
   "outputs": [],
   "source": [
    "# load the csv data file\n",
    "df = pd.read_csv(\"nci60.csv\")\n",
    "# X = np.array(df.iloc[:,2:])\n",
    "# y = np.array(df.iloc[:,1])\n",
    "X = df.iloc[:,2:]\n",
    "y = df.iloc[:,1]"
   ]
  },
  {
   "cell_type": "code",
   "execution_count": 3,
   "metadata": {
    "collapsed": true
   },
   "outputs": [],
   "source": [
    "def rfe_rf_tim(X, y, num_feature_to_selected):\n",
    "    from sklearn.ensemble import RandomForestRegressor\n",
    "    import time\n",
    "    rf = RandomForestRegressor()\n",
    "    X_new = X\n",
    "    record = {}\n",
    "    keep_ = X.shape[1]-num_feature_to_selected\n",
    "    start_time = time.time()\n",
    "    for i in range(keep_):\n",
    "        # fit the random forest and get the weights of features\n",
    "        fit = rf.fit(X_new, y)\n",
    "        # remove the feature with the smallest weight\n",
    "        X_new = X_new.drop(X_new.columns[[np.argmin(fit.feature_importances_)]], 1)\n",
    "        # record the index and value of the deleted feature\n",
    "        record.update({str(np.argmin(fit.feature_importances_)):fit.feature_importances_[np.argmin(fit.feature_importances_)]})\n",
    "    elapsed_time = time.time() - start_time\n",
    "    return X_new, record, elapsed_time"
   ]
  },
  {
   "cell_type": "code",
   "execution_count": 5,
   "metadata": {
    "collapsed": false
   },
   "outputs": [
    {
     "data": {
      "text/plain": [
       "2191.6778178215027"
      ]
     },
     "execution_count": 5,
     "metadata": {},
     "output_type": "execute_result"
    }
   ],
   "source": [
    "X_new, record, elapsed_time = rfe_rf_tim(X, y, 25)\n",
    "# for key,value in record.items(): \n",
    "#     print(key,':',value)\n",
    "\n",
    "X_new.shape[1]\n",
    "elapsed_time"
   ]
  },
  {
   "cell_type": "code",
   "execution_count": 8,
   "metadata": {
    "collapsed": false
   },
   "outputs": [
    {
     "data": {
      "text/plain": [
       "-0.82997179637651686"
      ]
     },
     "execution_count": 8,
     "metadata": {},
     "output_type": "execute_result"
    }
   ],
   "source": [
    "from sklearn.model_selection import KFold, cross_val_score\n",
    "k_fold = KFold(n_splits=5)\n",
    "rf = RandomForestRegressor()\n",
    "# model = clf.set_params(kernel='linear')\n",
    "score = cross_val_score(rf, X_new, y, cv=k_fold, n_jobs=-1)\n",
    "np.mean(score)"
   ]
  },
  {
   "cell_type": "code",
   "execution_count": 11,
   "metadata": {
    "collapsed": false
   },
   "outputs": [
    {
     "data": {
      "text/plain": [
       "-0.39388203872926386"
      ]
     },
     "execution_count": 11,
     "metadata": {},
     "output_type": "execute_result"
    }
   ],
   "source": [
    "from sklearn.model_selection import KFold, cross_val_score\n",
    "from sklearn.svm import SVR\n",
    "k_fold = KFold(n_splits=5)\n",
    "clf = SVR()\n",
    "# model = clf.set_params(kernel='linear')\n",
    "score = cross_val_score(clf, X_new, y, cv=k_fold, n_jobs=-1)\n",
    "np.mean(score)"
   ]
  }
 ],
 "metadata": {
  "kernelspec": {
   "display_name": "Python [default]",
   "language": "python",
   "name": "python3"
  },
  "language_info": {
   "codemirror_mode": {
    "name": "ipython",
    "version": 3
   },
   "file_extension": ".py",
   "mimetype": "text/x-python",
   "name": "python",
   "nbconvert_exporter": "python",
   "pygments_lexer": "ipython3",
   "version": "3.5.2"
  }
 },
 "nbformat": 4,
 "nbformat_minor": 1
}
