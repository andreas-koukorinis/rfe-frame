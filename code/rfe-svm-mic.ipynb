{
 "cells": [
  {
   "cell_type": "code",
   "execution_count": 1,
   "metadata": {
    "collapsed": true
   },
   "outputs": [],
   "source": [
    "from sklearn.svm import SVR\n",
    "from minepy import MINE\n",
    "import pandas as pd\n",
    "import numpy as np"
   ]
  },
  {
   "cell_type": "code",
   "execution_count": 41,
   "metadata": {
    "collapsed": false
   },
   "outputs": [
    {
     "data": {
      "text/plain": [
       "pandas.core.frame.DataFrame"
      ]
     },
     "execution_count": 41,
     "metadata": {},
     "output_type": "execute_result"
    }
   ],
   "source": [
    "# load the csv data file\n",
    "df = pd.read_csv(\"./data/nci60.csv\")\n",
    "# X = np.array(df.iloc[:,2:])\n",
    "# y = np.array(df.iloc[:,1])\n",
    "X = df.iloc[:,2:]\n",
    "y = df.iloc[:,1]\n",
    "type(X)"
   ]
  },
  {
   "cell_type": "code",
   "execution_count": 84,
   "metadata": {
    "collapsed": false
   },
   "outputs": [],
   "source": [
    "# Define the rfe-svm function\n",
    "def rfe_svm_mic(X, y, num_feature_to_selected):\n",
    "    import time\n",
    "    clf = SVR()\n",
    "    model = clf.set_params(kernel='linear')\n",
    "    X_new = X\n",
    "    record = {}\n",
    "    del_ = X.shape[1]-num_feature_to_selected\n",
    "    start_time = time.time()\n",
    "    for i in range(del_):\n",
    "        # get the column name\n",
    "        names = list(X_new)\n",
    "        # fit the svm and get the weights of features\n",
    "        fit = model.fit(X_new, y)\n",
    "        # compute the mic scores\n",
    "        mine = MINE()\n",
    "        mic_scores = []\n",
    "        for i in range(X_new.shape[1]):\n",
    "            mine.compute_score(X_new.iloc[:,i], y)\n",
    "            m = mine.mic()\n",
    "            mic_scores.append(m)\n",
    "        sum_cor = {}\n",
    "        # sum_cor = (1-0.3)*svm_coef + 0.3 * mic_scores\n",
    "        for i in range(X_new.shape[1]):\n",
    "            sum_cor[names[i]] = 0.7 * fit.coef_[0][i] + 0.3 * mic_scores[i]\n",
    "        # get the column name with the samllest value\n",
    "        min_colname = min(sum_cor, key=sum_cor.get)\n",
    "        # print(min_colname)\n",
    "        # get the column number with the samllest value\n",
    "        min_colnum = X.columns.get_loc(min_colname)\n",
    "        # print(min_colnum)\n",
    "        # print(sum_cor[min_colname])\n",
    "        # remove the feature with the smallest weight\n",
    "        X_new = X_new.drop(min_colname, axis=1)\n",
    "        # record the index and value of the deleted feature\n",
    "        # record.update({min_colname:sum_cor[min_colname]})\n",
    "        record[min_colname] = sum_cor[min_colname]\n",
    "    elapsed_time = time.time() - start_time\n",
    "    return X_new, record, elapsed_time"
   ]
  },
  {
   "cell_type": "code",
   "execution_count": 85,
   "metadata": {
    "collapsed": false
   },
   "outputs": [
    {
     "data": {
      "text/plain": [
       "21062.710179567337"
      ]
     },
     "execution_count": 85,
     "metadata": {},
     "output_type": "execute_result"
    }
   ],
   "source": [
    "# Do the feature selecltion and get the selected features\n",
    "X_new, record, elapsed_time = rfe_svm_mic(X, y, 50)\n",
    "#for key,value in record.items():\n",
    "#    print(key,':',value)\n",
    "len(record)\n",
    "elapsed_time"
   ]
  },
  {
   "cell_type": "code",
   "execution_count": 89,
   "metadata": {
    "collapsed": false
   },
   "outputs": [],
   "source": [
    "X_new.shape[1]\n",
    "len(record)\n",
    "X_new.to_csv(\"rfe_svm_mic_out.csv\")"
   ]
  },
  {
   "cell_type": "code",
   "execution_count": 116,
   "metadata": {
    "collapsed": false
   },
   "outputs": [],
   "source": [
    "X_new.insert(0, \"IC50\", y)\n",
    "X_new.to_csv(\"rfe_svm_mic_out.csv\")"
   ]
  },
  {
   "cell_type": "code",
   "execution_count": 101,
   "metadata": {
    "collapsed": false
   },
   "outputs": [
    {
     "data": {
      "text/plain": [
       "0.097509270691458871"
      ]
     },
     "execution_count": 101,
     "metadata": {},
     "output_type": "execute_result"
    }
   ],
   "source": [
    "# Do the cross-validation\n",
    "from sklearn.model_selection import KFold, cross_val_score\n",
    "k_fold = KFold(n_splits=10)\n",
    "clf = SVR()\n",
    "# model = clf.set_params(kernel='linear')\n",
    "score = cross_val_score(clf, X_new, y, cv=k_fold, n_jobs=-1)\n",
    "np.mean(score)"
   ]
  },
  {
   "cell_type": "code",
   "execution_count": 111,
   "metadata": {
    "collapsed": false
   },
   "outputs": [
    {
     "data": {
      "text/plain": [
       "0.011140298089407641"
      ]
     },
     "execution_count": 111,
     "metadata": {},
     "output_type": "execute_result"
    }
   ],
   "source": [
    "#from sklearn.ensemble import RandomForestRegressor\n",
    "from sklearn.linear_model import LinearRegression\n",
    "k_fold = KFold(n_splits=2)\n",
    "#rf = RandomForestRegressor()\n",
    "lf= LinearRegression()\n",
    "# model = clf.set_params(kernel='linear')\n",
    "score = cross_val_score(lf, X_new, y, cv=k_fold, n_jobs=-1)\n",
    "np.mean(score)"
   ]
  },
  {
   "cell_type": "code",
   "execution_count": 23,
   "metadata": {
    "collapsed": false
   },
   "outputs": [
    {
     "data": {
      "text/plain": [
       "-0.0088323808322437469"
      ]
     },
     "execution_count": 23,
     "metadata": {},
     "output_type": "execute_result"
    }
   ],
   "source": [
    "clf = SVR()\n",
    "model = clf.set_params(kernel='linear')\n",
    "fit = model.fit(X, y)\n",
    "fit.coef_.shape\n",
    "fit.coef_[0][10663]"
   ]
  },
  {
   "cell_type": "code",
   "execution_count": 22,
   "metadata": {
    "collapsed": false
   },
   "outputs": [
    {
     "data": {
      "text/plain": [
       "0.20484786985384534"
      ]
     },
     "execution_count": 22,
     "metadata": {},
     "output_type": "execute_result"
    }
   ],
   "source": [
    "mine = MINE()\n",
    "mic_scores = []\n",
    "for i in range(X.shape[1]):\n",
    "    mine.compute_score(X.iloc[:,i], y)\n",
    "    m = mine.mic()\n",
    "    mic_scores.append(m)\n",
    "len(mic_scores)\n",
    "mic_scores[10663]"
   ]
  },
  {
   "cell_type": "code",
   "execution_count": 28,
   "metadata": {
    "collapsed": false
   },
   "outputs": [],
   "source": [
    "# sum_cor = (1-0.3)*svm_coef + 0.3 * mic_scores\n",
    "sum_cor = {}\n",
    "names = list(X)\n",
    "for i in range(X.shape[1]):\n",
    "   sum_cor[names[i]] = 0.7 * fit.coef_[0][i] + 0.3 * mic_scores[i]\n"
   ]
  },
  {
   "cell_type": "code",
   "execution_count": 51,
   "metadata": {
    "collapsed": false
   },
   "outputs": [
    {
     "data": {
      "text/plain": [
       "0.063553530139019584"
      ]
     },
     "execution_count": 51,
     "metadata": {},
     "output_type": "execute_result"
    }
   ],
   "source": [
    "sum_cor['A4GALT']"
   ]
  },
  {
   "cell_type": "code",
   "execution_count": 32,
   "metadata": {
    "collapsed": false
   },
   "outputs": [
    {
     "data": {
      "text/plain": [
       "0.065592459545082221"
      ]
     },
     "execution_count": 32,
     "metadata": {},
     "output_type": "execute_result"
    }
   ],
   "source": [
    "0.7 * fit.coef_[0][0] + 0.3 * mic_scores[0]"
   ]
  },
  {
   "cell_type": "code",
   "execution_count": 33,
   "metadata": {
    "collapsed": false
   },
   "outputs": [
    {
     "data": {
      "text/plain": [
       "'GOT2'"
      ]
     },
     "execution_count": 33,
     "metadata": {},
     "output_type": "execute_result"
    }
   ],
   "source": [
    "min(sum_cor, key=sum_cor.get)"
   ]
  },
  {
   "cell_type": "code",
   "execution_count": 42,
   "metadata": {
    "collapsed": false
   },
   "outputs": [
    {
     "data": {
      "text/plain": [
       "3779"
      ]
     },
     "execution_count": 42,
     "metadata": {},
     "output_type": "execute_result"
    }
   ],
   "source": [
    "X.columns.get_loc(\"GOT2\")"
   ]
  }
 ],
 "metadata": {
  "anaconda-cloud": {},
  "kernelspec": {
   "display_name": "Python [default]",
   "language": "python",
   "name": "python3"
  },
  "language_info": {
   "codemirror_mode": {
    "name": "ipython",
    "version": 3
   },
   "file_extension": ".py",
   "mimetype": "text/x-python",
   "name": "python",
   "nbconvert_exporter": "python",
   "pygments_lexer": "ipython3",
   "version": "3.5.2"
  }
 },
 "nbformat": 4,
 "nbformat_minor": 1
}
